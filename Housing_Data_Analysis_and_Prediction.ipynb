{
 "cells": [
  {
   "cell_type": "code",
   "execution_count": null,
   "metadata": {
    "_cell_guid": "b1076dfc-b9ad-4769-8c92-a6c4dae69d19",
    "_uuid": "8f2839f25d086af736a60e9eeb907d3b93b6e0e5",
    "execution": {
     "iopub.execute_input": "2023-06-07T09:41:11.736487Z",
     "iopub.status.busy": "2023-06-07T09:41:11.735468Z",
     "iopub.status.idle": "2023-06-07T09:41:11.772395Z",
     "shell.execute_reply": "2023-06-07T09:41:11.771037Z",
     "shell.execute_reply.started": "2023-06-07T09:41:11.73644Z"
    },
    "id": "H1o6sEIbYu4V",
    "trusted": true
   },
   "outputs": [],
   "source": [
    "# Gligore Emil\n",
    "import numpy as np\n",
    "import pandas as pd"
   ]
  },
  {
   "cell_type": "markdown",
   "metadata": {
    "id": "5LuuACuqYu4W"
   },
   "source": [
    "# Q1."
   ]
  },
  {
   "cell_type": "markdown",
   "metadata": {
    "id": "D56OzGL5Yu4X"
   },
   "source": [
    "# a."
   ]
  },
  {
   "cell_type": "code",
   "execution_count": null,
   "metadata": {
    "execution": {
     "iopub.execute_input": "2023-06-07T09:41:11.775847Z",
     "iopub.status.busy": "2023-06-07T09:41:11.774987Z",
     "iopub.status.idle": "2023-06-07T09:41:13.658311Z",
     "shell.execute_reply": "2023-06-07T09:41:13.657155Z",
     "shell.execute_reply.started": "2023-06-07T09:41:11.775803Z"
    },
    "id": "mGjB8cAGYu4X",
    "trusted": true
   },
   "outputs": [],
   "source": [
    "import pandas as pd\n",
    "from sklearn.model_selection import train_test_split\n",
    "from sklearn import model_selection\n",
    "from sklearn.linear_model import LinearRegression\n",
    "from sklearn.tree import DecisionTreeRegressor\n",
    "import matplotlib.pyplot as plt\n",
    "from sklearn import metrics\n",
    "\n",
    "url = \"https://raw.githubusercontent.com/jbrownlee/Datasets/master/housing.data\"\n",
    "column_names = ['CRIM', 'ZN', 'INDUS', 'CHAS', 'NOX', 'RM', 'AGE', 'DIS', 'RAD', 'TAX', 'PTRATIO', 'B', 'LSTAT', 'MEDV']\n",
    "dataframe = pd.read_csv(url, delim_whitespace=True, names=column_names)\n",
    "dataframe"
   ]
  },
  {
   "cell_type": "code",
   "execution_count": null,
   "metadata": {
    "execution": {
     "iopub.execute_input": "2023-06-07T09:41:13.662276Z",
     "iopub.status.busy": "2023-06-07T09:41:13.661517Z",
     "iopub.status.idle": "2023-06-07T09:41:13.670652Z",
     "shell.execute_reply": "2023-06-07T09:41:13.669614Z",
     "shell.execute_reply.started": "2023-06-07T09:41:13.662231Z"
    },
    "id": "WwV_2w6xYu4X",
    "trusted": true
   },
   "outputs": [],
   "source": [
    "data = dataframe.values\n",
    "X = data[:,0:13]\n",
    "y = data[:,13]\n",
    "X_train, X_test, y_train, y_test = train_test_split(X, y,test_size=1/3, random_state=0)"
   ]
  },
  {
   "cell_type": "code",
   "execution_count": null,
   "metadata": {
    "execution": {
     "iopub.execute_input": "2023-06-07T09:41:13.674349Z",
     "iopub.status.busy": "2023-06-07T09:41:13.673921Z",
     "iopub.status.idle": "2023-06-07T09:41:13.693587Z",
     "shell.execute_reply": "2023-06-07T09:41:13.692564Z",
     "shell.execute_reply.started": "2023-06-07T09:41:13.67431Z"
    },
    "id": "UGi6occMYu4Y",
    "trusted": true
   },
   "outputs": [],
   "source": [
    "model_1 = DecisionTreeRegressor()\n",
    "model_1.fit(X_train, y_train)"
   ]
  },
  {
   "cell_type": "code",
   "execution_count": null,
   "metadata": {
    "execution": {
     "iopub.execute_input": "2023-06-07T09:41:13.697341Z",
     "iopub.status.busy": "2023-06-07T09:41:13.696252Z",
     "iopub.status.idle": "2023-06-07T09:41:13.740202Z",
     "shell.execute_reply": "2023-06-07T09:41:13.739185Z",
     "shell.execute_reply.started": "2023-06-07T09:41:13.697287Z"
    },
    "id": "nXwnkGkBYu4Y",
    "trusted": true
   },
   "outputs": [],
   "source": [
    "model_2 = LinearRegression()\n",
    "model_2.fit(X_train, y_train)"
   ]
  },
  {
   "cell_type": "markdown",
   "metadata": {
    "id": "KP8ddE2AYu4Y"
   },
   "source": [
    "# b.a."
   ]
  },
  {
   "cell_type": "code",
   "execution_count": null,
   "metadata": {
    "execution": {
     "iopub.execute_input": "2023-06-07T09:41:13.74206Z",
     "iopub.status.busy": "2023-06-07T09:41:13.741342Z",
     "iopub.status.idle": "2023-06-07T09:41:13.759664Z",
     "shell.execute_reply": "2023-06-07T09:41:13.758782Z",
     "shell.execute_reply.started": "2023-06-07T09:41:13.742025Z"
    },
    "id": "DOK5q81bYu4Z",
    "trusted": true
   },
   "outputs": [],
   "source": [
    "y_predicted = model_1.predict(X_test)\n",
    "df_results = pd.DataFrame({'Real Values': y_test, 'Predicted': y_predicted.round(1)})\n",
    "df_results['error'] = (df_results['Real Values'] - df_results['Predicted']).abs().round(1)\n",
    "df_results.head()"
   ]
  },
  {
   "cell_type": "code",
   "execution_count": null,
   "metadata": {
    "execution": {
     "iopub.execute_input": "2023-06-07T09:41:13.761279Z",
     "iopub.status.busy": "2023-06-07T09:41:13.76086Z",
     "iopub.status.idle": "2023-06-07T09:41:14.066625Z",
     "shell.execute_reply": "2023-06-07T09:41:14.065563Z",
     "shell.execute_reply.started": "2023-06-07T09:41:13.761241Z"
    },
    "id": "iMyCCwMDYu4Z",
    "trusted": true
   },
   "outputs": [],
   "source": [
    "fig, ax = plt.subplots()\n",
    "ax.plot([y_test.min(), y_test.max()], 'r--', lw=3, label = 'Predicted')\n",
    "ax.plot([y_predicted.min(), y_predicted.max()], label = 'Real Values')\n",
    "ax.set_xlabel('Predicted')\n",
    "ax.set_ylabel('Real Values')\n",
    "ax.legend()\n",
    "plt.show()"
   ]
  },
  {
   "cell_type": "markdown",
   "metadata": {
    "id": "jih9abnwYu4Z"
   },
   "source": [
    "# b.b."
   ]
  },
  {
   "cell_type": "code",
   "execution_count": null,
   "metadata": {
    "execution": {
     "iopub.execute_input": "2023-06-07T09:41:14.069545Z",
     "iopub.status.busy": "2023-06-07T09:41:14.068758Z",
     "iopub.status.idle": "2023-06-07T09:41:14.085893Z",
     "shell.execute_reply": "2023-06-07T09:41:14.084767Z",
     "shell.execute_reply.started": "2023-06-07T09:41:14.069504Z"
    },
    "id": "abdwSU93Yu4Z",
    "trusted": true
   },
   "outputs": [],
   "source": [
    "y_predicted = model_2.predict(X_test)\n",
    "df_results = pd.DataFrame({'Real Values': y_test, 'Predicted': y_predicted.round(1)})\n",
    "df_results['error'] = (df_results['Real Values'] - df_results['Predicted']).abs().round(1)\n",
    "df_results.head()"
   ]
  },
  {
   "cell_type": "code",
   "execution_count": null,
   "metadata": {
    "execution": {
     "iopub.execute_input": "2023-06-07T09:41:14.087881Z",
     "iopub.status.busy": "2023-06-07T09:41:14.087427Z",
     "iopub.status.idle": "2023-06-07T09:41:14.375223Z",
     "shell.execute_reply": "2023-06-07T09:41:14.373925Z",
     "shell.execute_reply.started": "2023-06-07T09:41:14.087841Z"
    },
    "id": "n-Z_GryKYu4a",
    "trusted": true
   },
   "outputs": [],
   "source": [
    "fig, ax = plt.subplots()\n",
    "ax.plot([y_test.min(), y_test.max()], 'r--', lw=3, label = 'Predicted')\n",
    "ax.plot([y_predicted.min(), y_predicted.max()], label = 'Real Values')\n",
    "ax.set_xlabel('Predicted')\n",
    "ax.set_ylabel('Real Values')\n",
    "ax.legend()\n",
    "plt.show()"
   ]
  },
  {
   "cell_type": "markdown",
   "metadata": {
    "id": "afNfAY4cYu4a"
   },
   "source": [
    "# b.c."
   ]
  },
  {
   "cell_type": "code",
   "execution_count": null,
   "metadata": {
    "execution": {
     "iopub.execute_input": "2023-06-07T09:41:14.378816Z",
     "iopub.status.busy": "2023-06-07T09:41:14.377737Z",
     "iopub.status.idle": "2023-06-07T09:41:14.403333Z",
     "shell.execute_reply": "2023-06-07T09:41:14.401971Z",
     "shell.execute_reply.started": "2023-06-07T09:41:14.37876Z"
    },
    "id": "O8LhT1NfYu4a",
    "trusted": true
   },
   "outputs": [],
   "source": [
    "y_predicted = model_1.predict(X_test)\n",
    "df_results = pd.DataFrame({'Real Values': y_test, 'Predicted': y_predicted.round(1)})\n",
    "df_results['error'] = (df_results['Real Values'] - df_results['Predicted']).abs().round(1)\n",
    "df_results.head()"
   ]
  },
  {
   "cell_type": "code",
   "execution_count": null,
   "metadata": {
    "execution": {
     "iopub.execute_input": "2023-06-07T09:41:14.411202Z",
     "iopub.status.busy": "2023-06-07T09:41:14.410081Z",
     "iopub.status.idle": "2023-06-07T09:41:14.698178Z",
     "shell.execute_reply": "2023-06-07T09:41:14.696974Z",
     "shell.execute_reply.started": "2023-06-07T09:41:14.411142Z"
    },
    "id": "6ann1ZYOYu4a",
    "trusted": true
   },
   "outputs": [],
   "source": [
    "fig, ax = plt.subplots()\n",
    "ax.scatter(y_predicted,y_test, edgecolors=(0, 0, 1))\n",
    "ax.plot([y_test.min(), y_test.max()], [y_test.min(), y_test.max()], 'r--', lw=3)\n",
    "ax.set_xlabel('Predicted')\n",
    "ax.set_ylabel('Real Values')\n",
    "plt.show()"
   ]
  },
  {
   "cell_type": "code",
   "execution_count": null,
   "metadata": {
    "execution": {
     "iopub.execute_input": "2023-06-07T09:41:14.7059Z",
     "iopub.status.busy": "2023-06-07T09:41:14.700783Z",
     "iopub.status.idle": "2023-06-07T09:41:14.715973Z",
     "shell.execute_reply": "2023-06-07T09:41:14.713606Z",
     "shell.execute_reply.started": "2023-06-07T09:41:14.705853Z"
    },
    "id": "TJygt9KNYu4a",
    "trusted": true
   },
   "outputs": [],
   "source": [
    "mae = metrics.mean_absolute_error(y_test, y_predicted)\n",
    "mse = metrics.mean_squared_error(y_test, y_predicted)\n",
    "r2 = metrics.r2_score(y_test, y_predicted)\n",
    "print('Mean Absolute Error - MAE is {}'.format(mae))\n",
    "print('Mean Squared Error - MSE is {}'.format(mse))\n",
    "print('R2 score is {}'.format(r2))\n",
    "print('Since the R2 score is over 0.5, we can say that is a good fit, but this depends on how much error we allow.')"
   ]
  },
  {
   "cell_type": "markdown",
   "metadata": {
    "id": "ef7V2A3dYu4a"
   },
   "source": [
    "# b.d."
   ]
  },
  {
   "cell_type": "code",
   "execution_count": null,
   "metadata": {
    "execution": {
     "iopub.execute_input": "2023-06-07T09:41:14.718391Z",
     "iopub.status.busy": "2023-06-07T09:41:14.717906Z",
     "iopub.status.idle": "2023-06-07T09:41:14.74453Z",
     "shell.execute_reply": "2023-06-07T09:41:14.743467Z",
     "shell.execute_reply.started": "2023-06-07T09:41:14.718354Z"
    },
    "id": "tI2eiiuYYu4b",
    "trusted": true
   },
   "outputs": [],
   "source": [
    "y_predicted = model_2.predict(X_test)\n",
    "df_results = pd.DataFrame({'Real Values': y_test, 'Predicted': y_predicted.round(1)})\n",
    "df_results['error'] = (df_results['Real Values'] - df_results['Predicted']).abs().round(1)\n",
    "df_results.head()"
   ]
  },
  {
   "cell_type": "code",
   "execution_count": null,
   "metadata": {
    "execution": {
     "iopub.execute_input": "2023-06-07T09:41:14.746424Z",
     "iopub.status.busy": "2023-06-07T09:41:14.746077Z",
     "iopub.status.idle": "2023-06-07T09:41:15.003655Z",
     "shell.execute_reply": "2023-06-07T09:41:15.002917Z",
     "shell.execute_reply.started": "2023-06-07T09:41:14.746394Z"
    },
    "id": "NB25gYL4Yu4b",
    "trusted": true
   },
   "outputs": [],
   "source": [
    "fig, ax = plt.subplots()\n",
    "ax.scatter(y_predicted,y_test, edgecolors=(0, 0, 1))\n",
    "ax.plot([y_test.min(), y_test.max()], [y_test.min(), y_test.max()], 'r--', lw=3)\n",
    "ax.set_xlabel('Predicted')\n",
    "ax.set_ylabel('Real Values')\n",
    "plt.show()"
   ]
  },
  {
   "cell_type": "code",
   "execution_count": null,
   "metadata": {
    "execution": {
     "iopub.execute_input": "2023-06-07T09:41:15.00604Z",
     "iopub.status.busy": "2023-06-07T09:41:15.004936Z",
     "iopub.status.idle": "2023-06-07T09:41:15.014159Z",
     "shell.execute_reply": "2023-06-07T09:41:15.013064Z",
     "shell.execute_reply.started": "2023-06-07T09:41:15.005998Z"
    },
    "id": "huwZVfVmYu4b",
    "trusted": true
   },
   "outputs": [],
   "source": [
    "mae = metrics.mean_absolute_error(y_test, y_predicted)\n",
    "mse = metrics.mean_squared_error(y_test, y_predicted)\n",
    "r2 = metrics.r2_score(y_test, y_predicted)\n",
    "print('Mean Absolute Error - MAE is {}'.format(mae))\n",
    "print('Mean Squared Error - MSE is {}'.format(mse))\n",
    "print('R2 score is {}'.format(r2))\n",
    "print('Since the R2 score is over 0.5, we can say that is a good fit, but this depends on how much error we allow.')"
   ]
  },
  {
   "cell_type": "markdown",
   "metadata": {
    "id": "Ar31grycYu4b"
   },
   "source": [
    "# c."
   ]
  },
  {
   "cell_type": "code",
   "execution_count": null,
   "metadata": {
    "execution": {
     "iopub.execute_input": "2023-06-07T09:41:15.015826Z",
     "iopub.status.busy": "2023-06-07T09:41:15.015465Z",
     "iopub.status.idle": "2023-06-07T09:41:15.054633Z",
     "shell.execute_reply": "2023-06-07T09:41:15.053515Z",
     "shell.execute_reply.started": "2023-06-07T09:41:15.015797Z"
    },
    "id": "MF4ycqA4Yu4b",
    "trusted": true
   },
   "outputs": [],
   "source": [
    "y_predicted = model_1.predict(X_test)\n",
    "df_results = pd.DataFrame({'Real Values': y_test, 'Predicted': y_predicted.round(1)})\n",
    "df_results['error'] = (df_results['Real Values'] - df_results['Predicted']).abs().round(1)\n",
    "df_results.describe()"
   ]
  },
  {
   "cell_type": "code",
   "execution_count": null,
   "metadata": {
    "execution": {
     "iopub.execute_input": "2023-06-07T09:41:15.056966Z",
     "iopub.status.busy": "2023-06-07T09:41:15.056392Z",
     "iopub.status.idle": "2023-06-07T09:41:15.338973Z",
     "shell.execute_reply": "2023-06-07T09:41:15.338056Z",
     "shell.execute_reply.started": "2023-06-07T09:41:15.056933Z"
    },
    "id": "y8m1AxzjYu4b",
    "trusted": true
   },
   "outputs": [],
   "source": [
    "plt.hist(df_results['error'], bins=10, color='skyblue', alpha=0.7)\n",
    "plt.xlabel('Values')\n",
    "plt.ylabel('Frequency')\n",
    "plt.title('Histogram of Data')\n",
    "plt.show()\n",
    "print('Based on the histogram we see that most of the errors are between 0 and 5 points of difference, based on this assumption we can say that the errors are systematic.')"
   ]
  },
  {
   "cell_type": "markdown",
   "metadata": {
    "id": "xOUxeOlwYu4b"
   },
   "source": [
    "# d."
   ]
  },
  {
   "cell_type": "code",
   "execution_count": null,
   "metadata": {
    "execution": {
     "iopub.execute_input": "2023-06-07T09:41:15.341233Z",
     "iopub.status.busy": "2023-06-07T09:41:15.340366Z",
     "iopub.status.idle": "2023-06-07T09:41:15.371537Z",
     "shell.execute_reply": "2023-06-07T09:41:15.370089Z",
     "shell.execute_reply.started": "2023-06-07T09:41:15.341169Z"
    },
    "id": "Kzx06nesYu4b",
    "trusted": true
   },
   "outputs": [],
   "source": [
    "y_predicted = model_2.predict(X_test)\n",
    "df_results = pd.DataFrame({'Real Values': y_test, 'Predicted': y_predicted.round(1)})\n",
    "df_results['error'] = (df_results['Real Values'] - df_results['Predicted']).abs().round(1)\n",
    "df_results.describe()"
   ]
  },
  {
   "cell_type": "code",
   "execution_count": null,
   "metadata": {
    "execution": {
     "iopub.execute_input": "2023-06-07T09:41:15.374585Z",
     "iopub.status.busy": "2023-06-07T09:41:15.373663Z",
     "iopub.status.idle": "2023-06-07T09:41:15.679666Z",
     "shell.execute_reply": "2023-06-07T09:41:15.678553Z",
     "shell.execute_reply.started": "2023-06-07T09:41:15.374539Z"
    },
    "id": "AD48FIEMYu4b",
    "trusted": true
   },
   "outputs": [],
   "source": [
    "plt.hist(df_results['error'], bins=10, color='blue', alpha=0.7)\n",
    "plt.xlabel('Values')\n",
    "plt.ylabel('Frequency')\n",
    "plt.title('Histogram of Data')\n",
    "plt.show()\n",
    "print('Based on the histogram we see that most of the errors are between 0 and 7 points of difference, based on this assumption we can say that the errors are systematic, the errors are also more then model 1.')"
   ]
  },
  {
   "cell_type": "markdown",
   "metadata": {
    "id": "gwZO-amnYu4b"
   },
   "source": [
    "# e."
   ]
  },
  {
   "cell_type": "code",
   "execution_count": null,
   "metadata": {
    "execution": {
     "iopub.execute_input": "2023-06-07T09:41:15.68164Z",
     "iopub.status.busy": "2023-06-07T09:41:15.681024Z",
     "iopub.status.idle": "2023-06-07T09:41:15.70744Z",
     "shell.execute_reply": "2023-06-07T09:41:15.70658Z",
     "shell.execute_reply.started": "2023-06-07T09:41:15.68161Z"
    },
    "id": "jqh3KRNqYu4c",
    "trusted": true
   },
   "outputs": [],
   "source": [
    "y_predicted = model_1.predict(X_test)\n",
    "df_results = pd.DataFrame({'Real Values': y_test, 'Predicted': y_predicted.round(1)})\n",
    "df_results['error'] = (df_results['Real Values'] - df_results['Predicted']).abs().round(1)\n",
    "print('The range of errors range from 0.0 to 29.6.')\n",
    "df_results.describe()"
   ]
  },
  {
   "cell_type": "markdown",
   "metadata": {
    "id": "QuKg1VHVYu4c"
   },
   "source": [
    "# f.\n"
   ]
  },
  {
   "cell_type": "code",
   "execution_count": null,
   "metadata": {
    "execution": {
     "iopub.execute_input": "2023-06-07T09:44:36.292659Z",
     "iopub.status.busy": "2023-06-07T09:44:36.292151Z",
     "iopub.status.idle": "2023-06-07T09:44:36.319506Z",
     "shell.execute_reply": "2023-06-07T09:44:36.318247Z",
     "shell.execute_reply.started": "2023-06-07T09:44:36.292627Z"
    },
    "id": "A7eeG9FSYu4c",
    "trusted": true
   },
   "outputs": [],
   "source": [
    "y_predicted = model_2.predict(X_test)\n",
    "df_results = pd.DataFrame({'Real Values': y_test, 'Predicted': y_predicted.round(1)})\n",
    "df_results['error'] = (df_results['Real Values'] - df_results['Predicted']).abs().round(1)\n",
    "print('We can see that the std errors are 3.715604.')\n",
    "df_results.describe()"
   ]
  },
  {
   "cell_type": "markdown",
   "metadata": {
    "id": "EJgahqpZYu4c"
   },
   "source": [
    "# g."
   ]
  },
  {
   "cell_type": "code",
   "execution_count": null,
   "metadata": {
    "execution": {
     "iopub.execute_input": "2023-06-07T09:44:09.556418Z",
     "iopub.status.busy": "2023-06-07T09:44:09.556015Z",
     "iopub.status.idle": "2023-06-07T09:44:09.562652Z",
     "shell.execute_reply": "2023-06-07T09:44:09.561095Z",
     "shell.execute_reply.started": "2023-06-07T09:44:09.556387Z"
    },
    "id": "OOZHuXB2Yu4c",
    "trusted": true
   },
   "outputs": [],
   "source": [
    "print('The average error for model 1 is 3.116568 while for model 2 is 3.553846 [based on the describe functions from earlier], so model 2 has the highest average error.')"
   ]
  },
  {
   "cell_type": "markdown",
   "metadata": {
    "id": "ntR9wNpXYu4c"
   },
   "source": [
    "# h."
   ]
  },
  {
   "cell_type": "code",
   "execution_count": null,
   "metadata": {
    "execution": {
     "iopub.execute_input": "2023-06-07T09:41:15.743637Z",
     "iopub.status.busy": "2023-06-07T09:41:15.743269Z",
     "iopub.status.idle": "2023-06-07T09:41:15.759338Z",
     "shell.execute_reply": "2023-06-07T09:41:15.758465Z",
     "shell.execute_reply.started": "2023-06-07T09:41:15.743607Z"
    },
    "id": "sbt2fyTcYu4c",
    "trusted": true
   },
   "outputs": [],
   "source": [
    "y_predicted = model_1.predict(X_test)\n",
    "df_results = pd.DataFrame({'Real Values': y_test, 'Predicted': y_predicted.round(1)})\n",
    "df_results['error'] = (df_results['Real Values'] - df_results['Predicted']).abs().round(1)\n",
    "mape1 = metrics.mean_absolute_percentage_error(y_test, y_predicted)\n",
    "r2_1 = metrics.r2_score(y_test, y_predicted)\n",
    "\n",
    "y_predicted = model_2.predict(X_test)\n",
    "df_results = pd.DataFrame({'Real Values': y_test, 'Predicted': y_predicted.round(1)})\n",
    "df_results['error'] = (df_results['Real Values'] - df_results['Predicted']).abs().round(1)\n",
    "mape2 = metrics.mean_absolute_percentage_error(y_test, y_predicted)\n",
    "r2_2 = metrics.r2_score(y_test, y_predicted)\n",
    "print('The following are the MAPE and R2 indicators for model 1 and model 2 respectively.',[mape1, r2_1], [mape2, r2_2])\n",
    "print('We can say that there is a noticeable difference between the two models, model 1 is better.')"
   ]
  },
  {
   "cell_type": "markdown",
   "metadata": {
    "id": "71zvyX83Yu4c"
   },
   "source": [
    "# i."
   ]
  },
  {
   "cell_type": "code",
   "execution_count": null,
   "metadata": {
    "execution": {
     "iopub.execute_input": "2023-06-07T09:41:15.761249Z",
     "iopub.status.busy": "2023-06-07T09:41:15.760905Z",
     "iopub.status.idle": "2023-06-07T09:41:15.781899Z",
     "shell.execute_reply": "2023-06-07T09:41:15.780978Z",
     "shell.execute_reply.started": "2023-06-07T09:41:15.761218Z"
    },
    "id": "bwR7wXP3Yu4c",
    "trusted": true
   },
   "outputs": [],
   "source": [
    "y_predicted = model_1.predict(X_test)\n",
    "df_results = pd.DataFrame({'Real Values': y_test, 'Predicted': y_predicted.round(1)})\n",
    "df_results['error'] = (df_results['Real Values'] - df_results['Predicted']).abs().round(1)\n",
    "mse1 = metrics.mean_squared_error(y_test, y_predicted)\n",
    "r2_1 = metrics.r2_score(y_test, y_predicted)\n",
    "\n",
    "y_predicted = model_2.predict(X_test)\n",
    "df_results = pd.DataFrame({'Real Values': y_test, 'Predicted': y_predicted.round(1)})\n",
    "df_results['error'] = (df_results['Real Values'] - df_results['Predicted']).abs().round(1)\n",
    "mse2 = metrics.mean_squared_error(y_test, y_predicted)\n",
    "r2_2 = metrics.r2_score(y_test, y_predicted)\n",
    "print('The MSE and R2 for both model 1 and model 2 respectively are',[mse1, r2_1], [mse2, r2_2])\n",
    "print('Model 1 is better by slight.')"
   ]
  },
  {
   "cell_type": "markdown",
   "metadata": {
    "id": "11UQI2RrYu4c"
   },
   "source": [
    "# Q2."
   ]
  },
  {
   "cell_type": "markdown",
   "metadata": {
    "id": "mnw5El3nYu4c"
   },
   "source": [
    "# a."
   ]
  },
  {
   "cell_type": "code",
   "execution_count": null,
   "metadata": {
    "execution": {
     "iopub.execute_input": "2023-06-07T09:41:15.784067Z",
     "iopub.status.busy": "2023-06-07T09:41:15.783426Z",
     "iopub.status.idle": "2023-06-07T09:41:15.795586Z",
     "shell.execute_reply": "2023-06-07T09:41:15.794658Z",
     "shell.execute_reply.started": "2023-06-07T09:41:15.784034Z"
    },
    "id": "7KckYcqpYu4f",
    "trusted": true
   },
   "outputs": [],
   "source": [
    "term_1 = pd.DataFrame([90, 71, 55, 45, 57, 74, 95, 87, 55, 42, 33, 45, 88, 74, 45, 56, 36, 58, 96, 96, 65, 67, 56, 68, 62, 39, 71, 59])\n",
    "term_2 = pd.DataFrame([92, 73, 53, 41, 55, 80, 96, 89, 50, 49, 33, 55, 85, 84, 46, 58, 39, 59, 96, 95, 70, 64, 54, 75, 73, 44, 69, 69])\n",
    "print(f'The average grade for term 1 is {term_1[0].mean()} and for term 2 is {term_2[0].mean()}.')\n",
    "print('We can say that the new technique worked overall, but not too much effect.')"
   ]
  },
  {
   "cell_type": "markdown",
   "metadata": {
    "id": "Gs_8xen-Yu4f"
   },
   "source": [
    "# b."
   ]
  },
  {
   "cell_type": "code",
   "execution_count": null,
   "metadata": {
    "execution": {
     "iopub.execute_input": "2023-06-07T09:41:15.797586Z",
     "iopub.status.busy": "2023-06-07T09:41:15.797022Z",
     "iopub.status.idle": "2023-06-07T09:41:16.323034Z",
     "shell.execute_reply": "2023-06-07T09:41:16.321792Z",
     "shell.execute_reply.started": "2023-06-07T09:41:15.797545Z"
    },
    "id": "c_UBWnHyYu4f",
    "trusted": true
   },
   "outputs": [],
   "source": [
    "term_1 = pd.DataFrame([90, 71, 55, 45, 57, 74, 95, 87, 55, 42, 33, 45, 88, 74, 45, 56, 36, 58, 96, 96, 65, 67, 56, 68, 62, 39, 71, 59])\n",
    "term_1.columns = ['Grades']\n",
    "term_1.plot(kind='density')\n",
    "print('The class a normal distribution, because the chat closely resembles the normal distribution [Gaussian].')"
   ]
  },
  {
   "cell_type": "markdown",
   "metadata": {
    "id": "fw3QTZAxYu4f"
   },
   "source": [
    "# c."
   ]
  },
  {
   "cell_type": "code",
   "execution_count": null,
   "metadata": {
    "execution": {
     "iopub.execute_input": "2023-06-07T09:41:16.325287Z",
     "iopub.status.busy": "2023-06-07T09:41:16.324416Z",
     "iopub.status.idle": "2023-06-07T09:41:16.338344Z",
     "shell.execute_reply": "2023-06-07T09:41:16.337407Z",
     "shell.execute_reply.started": "2023-06-07T09:41:16.325239Z"
    },
    "id": "FoGxOF4-Yu4f",
    "trusted": true
   },
   "outputs": [],
   "source": [
    "from scipy.stats import skew, kurtosis\n",
    "skewness = skew(term_2)\n",
    "kurtosis = kurtosis(term_2)\n",
    "print('Skewness', skewness, 'Kurtosis', kurtosis)\n",
    "print('From the skewness level of 0.119 which is close to 0 we understand that the indicates that the distribution is approximately symmetric. The data is roughly evenly distributed around the mean, and the left and right tails are similar in length.')\n",
    "print('From the kurtosis level of -1.1036 which is negative it indicates that the distribution has lighter tails and a flatter peak compared to a normal distribution')\n",
    "print('Even though there are slight differences between term 2 distribution and a normal distribution, they still are very similar, so term 2 also has a normal distribution')"
   ]
  },
  {
   "cell_type": "markdown",
   "metadata": {
    "id": "5eiRJYhPYu4f"
   },
   "source": [
    "# Q3."
   ]
  },
  {
   "cell_type": "markdown",
   "metadata": {
    "id": "hK5Ju38XYu4f"
   },
   "source": [
    "# a."
   ]
  },
  {
   "cell_type": "code",
   "execution_count": null,
   "metadata": {
    "execution": {
     "iopub.execute_input": "2023-06-07T09:45:03.577347Z",
     "iopub.status.busy": "2023-06-07T09:45:03.576931Z",
     "iopub.status.idle": "2023-06-07T09:45:03.584237Z",
     "shell.execute_reply": "2023-06-07T09:45:03.583295Z",
     "shell.execute_reply.started": "2023-06-07T09:45:03.577317Z"
    },
    "id": "6MOJIZyWYu4f",
    "trusted": true
   },
   "outputs": [],
   "source": [
    "FTA = 2\n",
    "FTM = 1\n",
    "prob_of_scoring = FTM/FTA\n",
    "print(f'The total probability of scoring is {prob_of_scoring * 100}% based on the given data, shooting two times.')\n",
    "prob_missing_2_times = 1/2 * 1/2 * 1/2\n",
    "print(f'If D. Jordan would shoot three times the probability of 1 ball scoring is {(1 - prob_missing_2_times) * 100}%.')\n",
    "prob_miss_1_time = 1/2 * 1/2 * 1/2 + 3/8\n",
    "print(f'If D. Jordan would shoot three times the probability of 2 balls scoring is {(1 - prob_miss_1_time) * 100}%.')\n",
    "prob_miss_0_time = 1/2 * 1/2 * 1/2\n",
    "print(f'If D. Jordan would shoot three times the probability of 3 balls scoring is {(prob_miss_0_time) * 100}%.')"
   ]
  }
 ],
 "metadata": {
  "colab": {
   "name": "Housing Data Analysis and Prediction",
   "provenance": []
  },
  "kernelspec": {
   "display_name": "Python 3",
   "language": "python",
   "name": "python3"
  },
  "language_info": {
   "codemirror_mode": {
    "name": "ipython",
    "version": 3
   },
   "file_extension": ".py",
   "mimetype": "text/x-python",
   "name": "python",
   "nbconvert_exporter": "python",
   "pygments_lexer": "ipython3",
   "version": "3.6.4"
  }
 },
 "nbformat": 4,
 "nbformat_minor": 0
}
